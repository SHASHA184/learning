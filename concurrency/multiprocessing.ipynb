{
 "cells": [
  {
   "cell_type": "code",
   "execution_count": 10,
   "metadata": {},
   "outputs": [
    {
     "name": "stdout",
     "output_type": "stream",
     "text": [
      "Summing all numbers from 0 to 100000000...\n",
      "Starting without multiprocessing...\n",
      "Without multiprocessing: 2.78 seconds\n",
      "Starting with multiprocessing...\n",
      "With multiprocessing: 1.02 seconds\n"
     ]
    }
   ],
   "source": [
    "import multiprocessing\n",
    "import time\n",
    "\n",
    "NUMBER_OF_PROCESSES = 5\n",
    "NUMBER_OF_ITERATIONS = 5\n",
    "N = 100000000\n",
    "\n",
    "def sum_all_numbers(n):\n",
    "    \"\"\"\n",
    "    Sum all numbers from 0 to n.\n",
    "\n",
    "    :param n: The upper limit of numbers to be summed.\n",
    "    :return: The sum of all numbers from 0 to n.\n",
    "    \"\"\"\n",
    "\n",
    "    total_sum = sum(range(n + 1))\n",
    "    return total_sum\n",
    "\n",
    "\n",
    "def without_multiprocessing():\n",
    "    print(\"Starting without multiprocessing...\")\n",
    "    for i in range(NUMBER_OF_ITERATIONS):\n",
    "        sum_all_numbers(N)\n",
    "\n",
    "\n",
    "def with_multiprocessing():\n",
    "    print(\"Starting with multiprocessing...\")\n",
    "    jobs = []\n",
    "\n",
    "    for i in range(NUMBER_OF_PROCESSES):\n",
    "        process = multiprocessing.Process(target=sum_all_numbers, args=(N,))\n",
    "        jobs.append(process)\n",
    "\n",
    "    for job in jobs:\n",
    "        job.start()\n",
    "    \n",
    "    for job in jobs:\n",
    "        job.join()\n",
    "    \n",
    "\n",
    "def main():\n",
    "    print(\"Summing all numbers from 0 to {}...\".format(N))\n",
    "\n",
    "    start_time = time.time()\n",
    "    without_multiprocessing()\n",
    "    print(\"Without multiprocessing: {:.2f} seconds\".format(time.time() - start_time))\n",
    "\n",
    "    start_time = time.time()\n",
    "    with_multiprocessing()\n",
    "    print(\"With multiprocessing: {:.2f} seconds\".format(time.time() - start_time))\n",
    "\n",
    "\n",
    "if __name__ == \"__main__\":\n",
    "    main()"
   ]
  }
 ],
 "metadata": {
  "kernelspec": {
   "display_name": "Python 3",
   "language": "python",
   "name": "python3"
  },
  "language_info": {
   "codemirror_mode": {
    "name": "ipython",
    "version": 3
   },
   "file_extension": ".py",
   "mimetype": "text/x-python",
   "name": "python",
   "nbconvert_exporter": "python",
   "pygments_lexer": "ipython3",
   "version": "3.10.12"
  }
 },
 "nbformat": 4,
 "nbformat_minor": 2
}
