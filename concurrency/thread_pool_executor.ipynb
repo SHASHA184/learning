{
 "cells": [
  {
   "cell_type": "code",
   "execution_count": 1,
   "metadata": {},
   "outputs": [
    {
     "name": "stdout",
     "output_type": "stream",
     "text": [
      "Downloaded https://www.python.org, status: 200\n",
      "Downloaded https://www.github.com, status: 200\n",
      "Downloaded https://www.google.com, status: 200\n",
      "[200, 200, 200]\n"
     ]
    }
   ],
   "source": [
    "from concurrent.futures import ThreadPoolExecutor\n",
    "import requests\n",
    "\n",
    "def fetch_url(url):\n",
    "    response = requests.get(url)\n",
    "    print(f\"Downloaded {url}, status: {response.status_code}\")\n",
    "    return response.status_code\n",
    "\n",
    "urls = [\n",
    "    \"https://www.python.org\",\n",
    "    \"https://www.google.com\",\n",
    "    \"https://www.github.com\",\n",
    "]\n",
    "\n",
    "with ThreadPoolExecutor(max_workers=3) as executor:\n",
    "    results = executor.map(fetch_url, urls)\n",
    "\n",
    "print(list(results))  # Собираем результаты выполнения\n"
   ]
  }
 ],
 "metadata": {
  "kernelspec": {
   "display_name": "Python 3",
   "language": "python",
   "name": "python3"
  },
  "language_info": {
   "codemirror_mode": {
    "name": "ipython",
    "version": 3
   },
   "file_extension": ".py",
   "mimetype": "text/x-python",
   "name": "python",
   "nbconvert_exporter": "python",
   "pygments_lexer": "ipython3",
   "version": "3.10.12"
  }
 },
 "nbformat": 4,
 "nbformat_minor": 2
}
