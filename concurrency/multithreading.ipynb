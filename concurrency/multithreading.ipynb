{
 "cells": [
  {
   "cell_type": "code",
   "execution_count": 13,
   "metadata": {},
   "outputs": [
    {
     "name": "stdout",
     "output_type": "stream",
     "text": [
      "Downloading images from Internet.\n",
      "\n",
      "Starting function with multithreading.\n",
      "Starting Thread-81 (download_image)\n",
      "Downloaded https://images.unsplash.com/photo-1428366890462-dd4baecf492b to with_multithreading_photos/photo-1428366890462-dd4baecf492b.jpg\n",
      "Starting Thread-82 (download_image)\n",
      "Downloaded https://images.unsplash.com/photo-1541447271487-09612b3f49f7 to with_multithreading_photos/photo-1541447271487-09612b3f49f7.jpg\n",
      "Downloaded https://images.unsplash.com/photo-1560840067-ddcaeb7831d2 to with_multithreading_photos/photo-1560840067-ddcaeb7831d2.jpg\n",
      "Starting Thread-83 (download_image)\n",
      "Downloaded https://images.unsplash.com/photo-1533752125192-ae59c3f8c403 to with_multithreading_photos/photo-1533752125192-ae59c3f8c403.jpg\n",
      "Starting Thread-84 (download_image)\n",
      "Downloaded https://images.unsplash.com/photo-1522069365959-25716fb5001a to with_multithreading_photos/photo-1522069365959-25716fb5001a.jpg\n",
      "Starting Thread-85 (download_image)\n",
      "--- Function with multithreading took 5.015194892883301 seconds ---\n",
      "\n",
      "Downloading images without multithreading\n"
     ]
    },
    {
     "name": "stderr",
     "output_type": "stream",
     "text": [
      "/usr/lib/python3/dist-packages/urllib3/connectionpool.py:1020: InsecureRequestWarning: Unverified HTTPS request is being made to host 'images.unsplash.com'. Adding certificate verification is strongly advised. See: https://urllib3.readthedocs.io/en/latest/advanced-usage.html#ssl-warnings\n",
      "  warnings.warn(\n"
     ]
    },
    {
     "name": "stdout",
     "output_type": "stream",
     "text": [
      "Image downloaded.\n"
     ]
    },
    {
     "name": "stderr",
     "output_type": "stream",
     "text": [
      "/usr/lib/python3/dist-packages/urllib3/connectionpool.py:1020: InsecureRequestWarning: Unverified HTTPS request is being made to host 'images.unsplash.com'. Adding certificate verification is strongly advised. See: https://urllib3.readthedocs.io/en/latest/advanced-usage.html#ssl-warnings\n",
      "  warnings.warn(\n"
     ]
    },
    {
     "name": "stdout",
     "output_type": "stream",
     "text": [
      "Image downloaded.\n"
     ]
    },
    {
     "name": "stderr",
     "output_type": "stream",
     "text": [
      "/usr/lib/python3/dist-packages/urllib3/connectionpool.py:1020: InsecureRequestWarning: Unverified HTTPS request is being made to host 'images.unsplash.com'. Adding certificate verification is strongly advised. See: https://urllib3.readthedocs.io/en/latest/advanced-usage.html#ssl-warnings\n",
      "  warnings.warn(\n"
     ]
    },
    {
     "name": "stdout",
     "output_type": "stream",
     "text": [
      "Image downloaded.\n"
     ]
    },
    {
     "name": "stderr",
     "output_type": "stream",
     "text": [
      "/usr/lib/python3/dist-packages/urllib3/connectionpool.py:1020: InsecureRequestWarning: Unverified HTTPS request is being made to host 'images.unsplash.com'. Adding certificate verification is strongly advised. See: https://urllib3.readthedocs.io/en/latest/advanced-usage.html#ssl-warnings\n",
      "  warnings.warn(\n"
     ]
    },
    {
     "name": "stdout",
     "output_type": "stream",
     "text": [
      "Image downloaded.\n"
     ]
    },
    {
     "name": "stderr",
     "output_type": "stream",
     "text": [
      "/usr/lib/python3/dist-packages/urllib3/connectionpool.py:1020: InsecureRequestWarning: Unverified HTTPS request is being made to host 'images.unsplash.com'. Adding certificate verification is strongly advised. See: https://urllib3.readthedocs.io/en/latest/advanced-usage.html#ssl-warnings\n",
      "  warnings.warn(\n"
     ]
    },
    {
     "name": "stdout",
     "output_type": "stream",
     "text": [
      "Image downloaded.\n",
      "--- Function without multithreading took 7.700648784637451 seconds ---\n",
      "\n"
     ]
    }
   ],
   "source": [
    "import time\n",
    "from queue import Queue\n",
    "from threading import Thread\n",
    "import os\n",
    "\n",
    "import requests\n",
    "\n",
    "NUMBER_OF_THREADS = 5\n",
    "q = Queue()\n",
    "\n",
    "\n",
    "def download_image(download_folder):\n",
    "    \"\"\"\n",
    "    Download image from url to download_folder\n",
    "    \"\"\"\n",
    "    global q\n",
    "\n",
    "    while True:\n",
    "        url = q.get()\n",
    "        if url is None:\n",
    "            break\n",
    "        \n",
    "        # Генерируем имя файла из URL\n",
    "        filename = os.path.join(download_folder, f\"{url.split('/')[-1]}.jpg\")\n",
    "        \n",
    "        response = requests.get(url, stream=True)\n",
    "        with open(filename, \"wb\") as f:\n",
    "            for chunk in response.iter_content(1024):\n",
    "                f.write(chunk)\n",
    "        \n",
    "        print(f\"Downloaded {url} to {filename}\")\n",
    "        q.task_done()\n",
    "\n",
    "\n",
    "def download_images_with_multithreading(images):\n",
    "    \"\"\"\n",
    "    Download images from urls to download_location\n",
    "    \"\"\"\n",
    "    print(\"Starting function with multithreading.\")\n",
    "    for image_url in images:\n",
    "        q.put(image_url)\n",
    "\n",
    "    # check if folder exists\n",
    "    if not os.path.exists(\"with_multithreading_photos\"):\n",
    "        os.makedirs(\"with_multithreading_photos\")\n",
    "\n",
    "    for t in range(NUMBER_OF_THREADS):\n",
    "        worker = Thread(target=download_image, args=(\"with_multithreading_photos\",))  # Передаем имя папки\n",
    "        worker.daemon = True\n",
    "        print(\"Starting \" + worker.name)\n",
    "        worker.start()\n",
    "        time.sleep(1)\n",
    "    \n",
    "\n",
    "    q.join()\n",
    "\n",
    "\n",
    "def download_images_without_multithreading(images):\n",
    "    \"\"\"\n",
    "    Download images from urls to download_location\n",
    "    \"\"\"\n",
    "    print(\"Downloading images without multithreading\")\n",
    "\n",
    "    # check if folder exists\n",
    "    if not os.path.exists(\"without_multithreading_photos\"):\n",
    "        os.makedirs(\"without_multithreading_photos\")\n",
    "\n",
    "    for image_url in images:\n",
    "        res = requests.get(image_url, stream=True, verify=False)\n",
    "\n",
    "        filename = f\"without_multithreading_photos/\" f\"{image_url.split('/')[-1]}.jpg\"\n",
    "\n",
    "        with open(filename, \"wb\") as f:\n",
    "            for block in res.iter_content(1024):\n",
    "                f.write(block)\n",
    "\n",
    "        print(\"Image downloaded.\")\n",
    "        time.sleep(1)\n",
    "\n",
    "\n",
    "\n",
    "def main():\n",
    "    images = [\n",
    "        \"https://images.unsplash.com/photo-1428366890462-dd4baecf492b\",\n",
    "        \"https://images.unsplash.com/photo-1541447271487-09612b3f49f7\",\n",
    "        \"https://images.unsplash.com/photo-1560840067-ddcaeb7831d2\",\n",
    "        \"https://images.unsplash.com/photo-1522069365959-25716fb5001a\",\n",
    "        \"https://images.unsplash.com/photo-1533752125192-ae59c3f8c403\",\n",
    "    ]\n",
    "\n",
    "    print(\"Downloading images from Internet.\\n\")\n",
    "\n",
    "    start_time = time.time()\n",
    "    download_images_with_multithreading(images)\n",
    "    print(\n",
    "        \"--- Function with multithreading took %s seconds ---\\n\"\n",
    "        % (time.time() - start_time)\n",
    "    )\n",
    "\n",
    "    start_time = time.time()\n",
    "    download_images_without_multithreading(images)\n",
    "    print(\n",
    "        \"--- Function without multithreading took %s seconds ---\\n\"\n",
    "        % (time.time() - start_time)\n",
    "    )\n",
    "\n",
    "\n",
    "if __name__ == \"__main__\":\n",
    "    main()"
   ]
  }
 ],
 "metadata": {
  "kernelspec": {
   "display_name": "Python 3",
   "language": "python",
   "name": "python3"
  },
  "language_info": {
   "codemirror_mode": {
    "name": "ipython",
    "version": 3
   },
   "file_extension": ".py",
   "mimetype": "text/x-python",
   "name": "python",
   "nbconvert_exporter": "python",
   "pygments_lexer": "ipython3",
   "version": "3.10.12"
  }
 },
 "nbformat": 4,
 "nbformat_minor": 2
}
