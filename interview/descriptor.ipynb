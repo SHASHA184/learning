{
 "cells": [
  {
   "cell_type": "code",
   "execution_count": 1,
   "metadata": {},
   "outputs": [
    {
     "name": "stdout",
     "output_type": "stream",
     "text": [
      "Setting the attribute\n",
      "Getting the attribute\n",
      "42\n",
      "Deleting the attribute\n"
     ]
    }
   ],
   "source": [
    "class MyDescriptor:\n",
    "    def __get__(self, instance, owner):\n",
    "        print(\"Getting the attribute\")\n",
    "        return instance.__dict__.get(\"_value\", None)\n",
    "\n",
    "    def __set__(self, instance, value):\n",
    "        print(\"Setting the attribute\")\n",
    "        instance.__dict__[\"_value\"] = value\n",
    "\n",
    "    def __delete__(self, instance):\n",
    "        print(\"Deleting the attribute\")\n",
    "        del instance.__dict__[\"_value\"]\n",
    "\n",
    "class MyClass:\n",
    "    attribute = MyDescriptor()\n",
    "\n",
    "obj = MyClass()\n",
    "obj.attribute = 42\n",
    "print(obj.attribute)\n",
    "del obj.attribute"
   ]
  }
 ],
 "metadata": {
  "kernelspec": {
   "display_name": "Python 3",
   "language": "python",
   "name": "python3"
  },
  "language_info": {
   "codemirror_mode": {
    "name": "ipython",
    "version": 3
   },
   "file_extension": ".py",
   "mimetype": "text/x-python",
   "name": "python",
   "nbconvert_exporter": "python",
   "pygments_lexer": "ipython3",
   "version": "3.10.12"
  }
 },
 "nbformat": 4,
 "nbformat_minor": 2
}
